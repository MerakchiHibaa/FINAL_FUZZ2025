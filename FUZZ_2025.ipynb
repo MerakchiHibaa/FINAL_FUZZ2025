{
  "cells": [
    {
      "cell_type": "markdown",
      "metadata": {
        "id": "view-in-github",
        "colab_type": "text"
      },
      "source": [
        "<a href=\"https://colab.research.google.com/github/MerakchiHibaa/FINAL_FUZZ2025/blob/main/FUZZ_2025.ipynb\" target=\"_parent\"><img src=\"https://colab.research.google.com/assets/colab-badge.svg\" alt=\"Open In Colab\"/></a>"
      ]
    },
    {
      "cell_type": "markdown",
      "metadata": {
        "id": "3_isigUFldlE"
      },
      "source": [
        "# FTH requirements :"
      ]
    },
    {
      "cell_type": "markdown",
      "metadata": {
        "id": "cvQkGIkWFaFF"
      },
      "source": []
    },
    {
      "cell_type": "code",
      "execution_count": 2,
      "metadata": {
        "colab": {
          "base_uri": "https://localhost:8080/"
        },
        "id": "bxQfkCVClN47",
        "outputId": "c25b7ca8-7050-4143-daa6-b01c236ceb2c"
      },
      "outputs": [
        {
          "output_type": "stream",
          "name": "stdout",
          "text": [
            "Collecting scikit-fuzzy\n",
            "  Downloading scikit_fuzzy-0.5.0-py2.py3-none-any.whl.metadata (2.6 kB)\n",
            "Downloading scikit_fuzzy-0.5.0-py2.py3-none-any.whl (920 kB)\n",
            "\u001b[?25l   \u001b[90m━━━━━━━━━━━━━━━━━━━━━━━━━━━━━━━━━━━━━━━━\u001b[0m \u001b[32m0.0/920.8 kB\u001b[0m \u001b[31m?\u001b[0m eta \u001b[36m-:--:--\u001b[0m\r\u001b[2K   \u001b[91m━━━━\u001b[0m\u001b[90m╺\u001b[0m\u001b[90m━━━━━━━━━━━━━━━━━━━━━━━━━━━━━━━━━━━\u001b[0m \u001b[32m92.2/920.8 kB\u001b[0m \u001b[31m2.4 MB/s\u001b[0m eta \u001b[36m0:00:01\u001b[0m\r\u001b[2K   \u001b[91m━━━━━━━━━━━━━━━━━━━━━━━━━\u001b[0m\u001b[90m╺\u001b[0m\u001b[90m━━━━━━━━━━━━━━\u001b[0m \u001b[32m583.7/920.8 kB\u001b[0m \u001b[31m8.7 MB/s\u001b[0m eta \u001b[36m0:00:01\u001b[0m\r\u001b[2K   \u001b[90m━━━━━━━━━━━━━━━━━━━━━━━━━━━━━━━━━━━━━━━━\u001b[0m \u001b[32m920.8/920.8 kB\u001b[0m \u001b[31m9.6 MB/s\u001b[0m eta \u001b[36m0:00:00\u001b[0m\n",
            "\u001b[?25hInstalling collected packages: scikit-fuzzy\n",
            "Successfully installed scikit-fuzzy-0.5.0\n"
          ]
        }
      ],
      "source": [
        "!pip install scikit-fuzzy\n",
        "\n",
        "import networkx as nx\n",
        "import pandas as pd\n",
        "import multiprocessing as mp\n",
        "import matplotlib.pyplot as plt\n",
        "from numba import prange\n",
        "from typing import List\n",
        "import skfuzzy as fuzz\n",
        "from scipy import signal\n",
        "import numpy as np\n",
        "from functools import lru_cache\n",
        "from scipy.spatial.distance import squareform\n",
        "from scipy.cluster import hierarchy\n",
        "from scipy.cluster.hierarchy import dendrogram, linkage, fcluster\n",
        "import time"
      ]
    },
    {
      "cell_type": "code",
      "source": [
        "# FUZZ 2025\n",
        "\n",
        "!wget https://gist.githubusercontent.com/MerakchiHibaa/09142b59721546554c5550a5c85703d8/raw/b953af93d867f7d937c4e2a838696801caa584ae/Fuzz_activity.txt -q --show-progress"
      ],
      "metadata": {
        "colab": {
          "base_uri": "https://localhost:8080/"
        },
        "id": "ksWKQWNETbE3",
        "outputId": "ff8b7307-ba93-4bfb-e8df-4c700716ca0d"
      },
      "execution_count": 3,
      "outputs": [
        {
          "output_type": "stream",
          "name": "stdout",
          "text": [
            "\rFuzz_activity.txt     0%[                    ]       0  --.-KB/s               \rFuzz_activity.txt   100%[===================>]     115  --.-KB/s    in 0s      \n"
          ]
        }
      ]
    },
    {
      "cell_type": "code",
      "source": [
        "# FUZZ 2025\n",
        "path_onto = \"Fuzz_activity.txt\"\n",
        "\n",
        "ontology_emd = nx.read_adjlist(path_onto, create_using=nx.DiGraph) # creates a directed graph (DiGraph) representation of the ontology data.\n",
        "\n"
      ],
      "metadata": {
        "id": "2nGxXMz23ye0"
      },
      "execution_count": 4,
      "outputs": []
    },
    {
      "cell_type": "code",
      "execution_count": 5,
      "metadata": {
        "id": "T86psqEB8j5Z"
      },
      "outputs": [],
      "source": [
        "@lru_cache(maxsize=100000)\n",
        "def wu_palmer_fth(x: str, y: str, path: str, rootnode=\"All\") -> float:\n",
        "    ontologie = nx.read_adjlist(path, create_using=nx.DiGraph)\n",
        "    return (2.0 * nx.shortest_path_length(ontologie, rootnode, nx.lowest_common_ancestor(ontologie, x, y))) / (\n",
        "            nx.shortest_path_length(ontologie, rootnode, x) + nx.shortest_path_length(ontologie, rootnode, y))\n",
        "\n",
        "\n",
        "\n",
        "# Define the similarity used\n",
        "def sim_FTH(x: str, y: str) -> float:\n",
        "    return wu_palmer_fth(x, y, path_onto)"
      ]
    },
    {
      "cell_type": "code",
      "execution_count": 6,
      "metadata": {
        "id": "oQa-kiYx8jz6"
      },
      "outputs": [],
      "source": [
        "from typing import List, TypeVar\n",
        "\n",
        "T = TypeVar('T') # defines a type variable and allows the class to work with generic types.\n",
        "# https://dev.to/decorator_factory/typevars-explained-hmo\n",
        "\n",
        "\n",
        "class Temporal_seq:\n",
        "    def __init__(self, acts: List[T], times: List[float]) -> None:\n",
        "        self.acts = acts\n",
        "        self.times = times\n",
        "        # acts: A list of elements of type T. The type variable T allows the list to contain elements of any type.\n",
        "        # times: A list of floating-point numbers representing the corresponding times for each activity."
      ]
    },
    {
      "cell_type": "code",
      "execution_count": 7,
      "metadata": {
        "id": "tpfVkp7Z8jxP"
      },
      "outputs": [],
      "source": [
        "class Edit_FTH:# To define the edit operation\n",
        "    def __init__(self, x: str, delta: float, t_edit: float, S_i: Temporal_seq):\n",
        "        self.x = x # the activity\n",
        "        self.delta = delta # the duration\n",
        "        self.t_edit = t_edit # the starting point\n",
        "        self.S_i = S_i # the sequence\n"
      ]
    },
    {
      "cell_type": "code",
      "execution_count": 8,
      "metadata": {
        "id": "nKaIvmOsa3sO"
      },
      "outputs": [],
      "source": [
        "def to_discrete(S_i: Temporal_seq, unit_of_time: float) -> List[str]:\n",
        "  return [S_i.acts[k] for k in range(len(S_i.acts)) for j in range(int(S_i.times[k] / unit_of_time))]"
      ]
    },
    {
      "cell_type": "markdown",
      "metadata": {
        "id": "gJZgP7lVnE94"
      },
      "source": [
        "## Standard versions :"
      ]
    },
    {
      "cell_type": "code",
      "execution_count": 9,
      "metadata": {
        "id": "8rvRzZUi8vGD"
      },
      "outputs": [],
      "source": [
        "def cost_gamma_fth(e: Edit_FTH, interval_step = 1, time_window = 240) -> float:\n",
        "  I = np.arange(0, np.sum(e.S_i.times)  , interval_step) # the duration divided by the interval step\n",
        "  mu = fuzz.trapmf(I, [e.t_edit - time_window, e.t_edit, e.t_edit + e.delta, # the context function\n",
        "                       e.t_edit + e.delta + time_window])\n",
        "  sim_fun = [sim_fth_e(e, t) for t in I] # the similarity measure,t starts with 0\n",
        "  sim_context = [mu[i] * sim_fun[i] for i in range(len(I))] # the similarity multiplied by the context function\n",
        "  tab_gate = np.arange(0, e.delta, interval_step)\n",
        "  gate = fuzz.trapmf(tab_gate, [0, 0, e.delta, e.delta])\n",
        "  convo = signal.convolve(sim_context, gate, mode='same') / (e.delta / interval_step) # calculates the convolution weighted by the duration divided by the interval step\n",
        "  return 1 - np.max(convo) # returns the cost (between 0 and 1)\n",
        "\n",
        "def cost_delta_fth(e: Edit_FTH, interval_step = 1, time_window = 240) -> float:\n",
        "  return e.delta * cost_gamma_fth(e, interval_step, time_window) # returns the weighted cost (cost multiplied by the duration of the new activity )\n",
        "\n",
        "# The function that calculates the one-sided distance between two trajectories\n",
        "def one_sided_dist_fth(S1: Temporal_seq, S2: Temporal_seq, f = cost_delta_fth, interval_step = 1, time_window = 240) -> float:\n",
        "  sum = 0\n",
        "\n",
        "  for i in prange(len(S1.acts)): # starts from 0\n",
        "    e = Edit_FTH(S1.acts[i], S1.times[i], np.sum(S1.times[:i]), S2) # np.sum(S1.times[:i]) calculates the cumulative time spent on actions prior to the current action at index i (to get the beginning of the activity)\n",
        "    sum += f(e, interval_step, time_window) # f is the used cost function (delta or gamma function)\n",
        "  return sum # sum represents the sum of maximal costs necessary for all the edit operations\n",
        "\n",
        "# Relative version (with precision )\n",
        "\n",
        "def cost_gamma_fth_relative(e: Edit_FTH, interval_step = 0.001, time_window = 0.5) -> float:\n",
        "  # I = np.arange(0, round(np.sum(e.S_i.times), precision - 1)  , interval_step) # the duration divided by the interval step\n",
        "  I = np.arange(0, np.sum(e.S_i.times)  , interval_step)\n",
        "  # print(\"inside cost_gamma_fth_relative, e.t_edit \", e.t_edit , 'e.S_i.times ', e.S_i.times)\n",
        "  mu = fuzz.trapmf(I, [e.t_edit - time_window, e.t_edit, e.t_edit + e.delta, # the context function\n",
        "                       e.t_edit + e.delta + time_window])\n",
        "  sim_fun = [sim_fth_e(e, t) for t in I] # the similarity measure\n",
        "  sim_context = [mu[i] * sim_fun[i] for i in range(len(I))] # the similarity multiplied by the context function\n",
        "  tab_gate = np.arange(0, e.delta, interval_step)\n",
        "  gate = fuzz.trapmf(tab_gate, [0, 0, e.delta, e.delta])\n",
        "  convo = signal.convolve(sim_context, gate, mode='same') / (e.delta / interval_step) # calculates the convolution\n",
        "  # weighted by the duration divided by the interval step\n",
        "  return 1 - np.max(convo) # returns the cost (between 0 and 1)\n",
        "\n",
        "def cost_delta_fth_relative(e: Edit_FTH, interval_step = 0.001, time_window = 0.5) -> float:\n",
        "  return e.delta * cost_gamma_fth_relative(e, interval_step, time_window) # returns the weighted cost (cost multiplied by the duration of the new activity )\n",
        "\n",
        "# The function that calculates the one-sided distance between two trajectories\n",
        "def one_sided_dist_fth_relative(S1: Temporal_seq, S2: Temporal_seq, f = cost_delta_fth_relative, interval_step = 0.001, time_window = 0.5) -> float:\n",
        "  sum = 0 # 1\n",
        "  for i in prange(len(S1.acts)):\n",
        "    e = Edit_FTH(S1.acts[i], S1.times[i], np.sum(S1.times[:i]), S2) # np.sum(S1.times[:i]) calculates the cumulative time spent on actions prior to the current action at index i (to get the beginning of the activity)\n",
        "    # print('inside one_sided_dist_fth_relative S1.times[i] ' , S1.times[i] )\n",
        "    sum += f(e, interval_step, time_window) # f is the used cost function (delta or gamma function)\n",
        "  return sum # sum represents the sum of maximal costs necessary for all the edit operations"
      ]
    },
    {
      "cell_type": "code",
      "execution_count": 10,
      "metadata": {
        "id": "4pHVBPQh8qW6"
      },
      "outputs": [],
      "source": [
        "def dist_fth(S1: Temporal_seq, S2: Temporal_seq, f = cost_delta_fth, interval_step = 1, time_window = 1, agg = max)-> float:\n",
        "  return agg(one_sided_dist_fth(S1, S2, f, interval_step, time_window), # returns the maximal one-sided cost to get from S1 to S2 or from S2 to S1\n",
        "             one_sided_dist_fth(S2, S1, f, interval_step, time_window))\n",
        "\n",
        "\n",
        "# relative version\n",
        "\n",
        "def dist_fth_relative(S1: Temporal_seq, S2: Temporal_seq, f = cost_delta_fth_relative, interval_step = 1/ 10 **3, time_window =  0.01, agg = max)-> float:\n",
        "  # print('inside dist_fth_relative S1 = ', S1.acts, S1.times , 'S2 =', S2.acts, S2.times)\n",
        "  return agg(one_sided_dist_fth_relative(S1, S2, f, interval_step, time_window), # returns the maximal one-sided cost to get from S1 to S2 or from S2 to S1\n",
        "             one_sided_dist_fth_relative(S2, S1, f, interval_step, time_window))"
      ]
    },
    {
      "cell_type": "markdown",
      "metadata": {
        "id": "lFbJcykEm4OU"
      },
      "source": [
        "## Version with flexible H (time window) :"
      ]
    },
    {
      "cell_type": "code",
      "execution_count": 11,
      "metadata": {
        "id": "Q-B8Igmb852R"
      },
      "outputs": [],
      "source": [
        "def sim_fth_e(e: Edit_FTH, t: float) -> float: #  for t in I (starts with 0)\n",
        "    for i in prange(len(e.S_i.times)):# Iterate through the times in the sequence 'e.S_i'\n",
        "    # every i is an index for a duration (starts with 0)\n",
        "        if np.sum(e.S_i.times[:i]) <= t < np.sum(e.S_i.times[:i + 1]): # # Check if 't' falls within the time interval of the current activity in the sequence\n",
        "            return sim_FTH(e.S_i.acts[i], e.x) # If 't' is within the interval, return the similarity between the current activity and 'e.x'\n",
        "    return 0"
      ]
    },
    {
      "cell_type": "code",
      "execution_count": 12,
      "metadata": {
        "id": "2K5jtSXaEPzn"
      },
      "outputs": [],
      "source": [
        "def fuzzy_context_fth_h(e: Edit_FTH, time_window = 480) -> List[float]:\n",
        "  return fuzz.trapmf(np.arange(0, np.sum(e.S_i.times), interval_step),\n",
        "                     [e.t_edit - time_window, e.t_edit, e.t_edit + e.delta, e.t_edit + e.delta + time_window])\n",
        "\n"
      ]
    },
    {
      "cell_type": "code",
      "execution_count": 13,
      "metadata": {
        "id": "zwD6V0JG6_rK"
      },
      "outputs": [],
      "source": [
        "def cost_gamma_fth_h(e: Edit_FTH, time_window, interval_step = 1 ) -> float:\n",
        "  I = np.arange(0, np.sum(e.S_i.times), interval_step)\n",
        "  mu = fuzz.trapmf(I, [e.t_edit - time_window, e.t_edit, e.t_edit + e.delta,\n",
        "                       e.t_edit + e.delta + time_window])\n",
        "  sim_fun = [sim_fth_e(e, t) for t in I]\n",
        "  sim_context = [mu[i] * sim_fun[i] for i in range(len(I))]\n",
        "  tab_gate = np.arange(0, e.delta, interval_step)\n",
        "  gate = fuzz.trapmf(tab_gate, [0, 0, e.delta, e.delta])\n",
        "  convo = signal.convolve(sim_context, gate, mode='same') / (e.delta / interval_step)\n",
        "  return 1 - np.max(convo)\n",
        "\n",
        "# time_window = 4\n",
        "def cost_delta_fth_h(e: Edit_FTH,  time_window, interval_step = 1) -> float:\n",
        "  return e.delta * cost_gamma_fth_h(e, time_window, interval_step)"
      ]
    },
    {
      "cell_type": "code",
      "execution_count": 14,
      "metadata": {
        "id": "TOzK1g277IHH"
      },
      "outputs": [],
      "source": [
        "# time_window =  = 720\n",
        "def one_sided_dist_fth_h(S1: Temporal_seq, S2: Temporal_seq, time_window, f = cost_delta_fth_h, interval_step = 1) -> float:\n",
        "  sum = 0\n",
        "  for i in prange(len(S1.acts)):\n",
        "    e = Edit_FTH(S1.acts[i], S1.times[i], np.sum(S1.times[:i]), S2)\n",
        "    sum += f(e, interval_step, time_window)\n",
        "  return sum\n",
        "\n",
        "def dist_fth_h(S1: Temporal_seq, S2: Temporal_seq, time_window, f = cost_delta_fth_h, interval_step = 2, agg = max)-> float:\n",
        "  return agg(one_sided_dist_fth_h(S1, S2, time_window, f, interval_step),\n",
        "             one_sided_dist_fth_h(S2, S1,time_window, f, interval_step))"
      ]
    },
    {
      "cell_type": "markdown",
      "metadata": {
        "id": "T9LIqNEinAmZ"
      },
      "source": [
        "## Tests :"
      ]
    },
    {
      "cell_type": "markdown",
      "metadata": {
        "id": "qekVXB8ppr0G"
      },
      "source": [
        "# Pattern searching :"
      ]
    },
    {
      "cell_type": "code",
      "execution_count": 15,
      "metadata": {
        "id": "z3LwNT5tprfS"
      },
      "outputs": [],
      "source": [
        "# To find all possible subsequences\n",
        "def contiguous_substrings(s: Temporal_seq) -> List[Temporal_seq]:\n",
        "    substrings = []\n",
        "    n = len(s.acts)\n",
        "    for i in range(n):  # O(n)\n",
        "        for j in range(i, n):  # O(n)\n",
        "            acts_substring = s.acts[i:j+1]\n",
        "            times_substring = s.times[i:j+1]\n",
        "            substring = Temporal_seq(acts_substring, times_substring)\n",
        "            substrings.append(substring)\n",
        "\n",
        "    return substrings\n",
        "def sum_duration(sequence: Temporal_seq) -> float: # gives the sum of durations for a sequence\n",
        "    return sum(sequence.times)"
      ]
    },
    {
      "cell_type": "code",
      "source": [
        "# FUZZ 2025\n",
        "def decode_activities(acts: List[str]) -> List[str]:\n",
        "    activity_mapping = {\n",
        "        \"1\": \"Bike\",\n",
        "        \"2\": \"Walk\",\n",
        "        \"3\": \"Bus\",\n",
        "        \"4\": \"Work\",\n",
        "        \"5\": \"Shopping\",\n",
        "        \"6\": \"Read\",\n",
        "        \"7\": \"Swim\",\n",
        "\n",
        "    }\n",
        "    decoded_activities = [activity_mapping[act] for act in acts]\n",
        "    return decoded_activities\n",
        "\n",
        "s_h = Temporal_seq(['1', '4', '5'], [30, 5, 12])\n",
        "decoded_activities = decode_activities(s_h.acts)\n",
        "print(decoded_activities)"
      ],
      "metadata": {
        "colab": {
          "base_uri": "https://localhost:8080/"
        },
        "id": "E6vgV-TPAWbN",
        "outputId": "30a4a68d-3923-4acb-9c57-f0ffc5c0028f"
      },
      "execution_count": 16,
      "outputs": [
        {
          "output_type": "stream",
          "name": "stdout",
          "text": [
            "['Bike', 'Work', 'Shopping']\n"
          ]
        }
      ]
    },
    {
      "cell_type": "markdown",
      "metadata": {
        "id": "KQzZl-vaHpvG"
      },
      "source": [
        "### Relative FTH"
      ]
    },
    {
      "cell_type": "code",
      "execution_count": 17,
      "metadata": {
        "id": "xR5uy3fUHo56"
      },
      "outputs": [],
      "source": [
        "import copy\n",
        "def relative_temporal_seq(T :Temporal_seq ) -> Temporal_seq:\n",
        "  T_ = copy.deepcopy(T)\n",
        "  T_max_seq = sum_duration(T_)\n",
        "  relative_times = [time / T_max_seq * 100 for time in T_.times]\n",
        "  return Temporal_seq(T_.acts, relative_times)"
      ]
    },
    {
      "cell_type": "code",
      "execution_count": 18,
      "metadata": {
        "id": "y34sMM8zswM-"
      },
      "outputs": [],
      "source": [
        "def rounded_relative_temporal_seq(T: Temporal_seq) -> Temporal_seq:\n",
        "    T_ = copy.deepcopy(T)\n",
        "    T_max_seq = sum(T_.times)\n",
        "    # relative_times = [round(time / T_max_seq*100, precision) for time in T_.times]\n",
        "    relative_times = [time / T_max_seq * 1000 for time in T_.times]\n",
        "\n",
        "    integer_parts = [int(time) for time in relative_times] # Truncate to integer part\n",
        "    # print('integer_parts' , integer_parts)\n",
        "    remainders = [time - int(time) for time in relative_times] # Calculate remainders\n",
        "    # print('remainders' , remainders)\n",
        "    # Rank remainders in decreasing order\n",
        "    ranked_remainders = sorted([(i,integer_parts[i], remainders[i]) for i in range(len(integer_parts))], key=lambda x: x[2], reverse=True)\n",
        "\n",
        "\n",
        "    sum_integers = sum(integer_parts)\n",
        "    # print('sum_integers  ' , sum_integers)\n",
        "    index = 0\n",
        "\n",
        "    # While the sum of integers is less than 1000, add one to the integer with the next biggest integer\n",
        "    while sum_integers < 1000:\n",
        "        # print('inside while, sum_integers = ' , sum_integers)\n",
        "        # print('index ', index)\n",
        "        index %= len(ranked_remainders) # Wrap around if we reach the end of the ranked remainders list\n",
        "        i, integer_part, _ = ranked_remainders[index] # Get the index of the next biggest remainder\n",
        "        integer_parts[i] += 1 # Add one to the integer part\n",
        "        sum_integers += 1 # Increment the sum of remainders\n",
        "        index += 1 # Move to the next remainder\n",
        "\n",
        "\n",
        "    return Temporal_seq(T_.acts, integer_parts)\n",
        "\n"
      ]
    },
    {
      "cell_type": "code",
      "source": [
        "# FUZZ 2025\n",
        "precision = 3\n",
        "\n",
        "import copy\n",
        "# Shows the TOP-K per sequence\n",
        "# We eliminate the subsequences that are too long or too short\n",
        "\n",
        "def FTH_relative_elimin_k_fuzz(subb, pattern , k, degree, f = cost_delta_fth, decoding_func = decode_activities):\n",
        "  result = []\n",
        "  patt = copy.deepcopy(pattern)\n",
        "  len_patt = sum_duration(patt)\n",
        "  len_patt_h = len_patt/60\n",
        "\n",
        "  relative_pattern = rounded_relative_temporal_seq(patt) # precision -1\n",
        "  # for subb in substrings:\n",
        "  sub = copy.deepcopy(subb)\n",
        "  # print(sub.acts, sub.times)\n",
        "\n",
        "  len_sub = sum_duration(sub)\n",
        "  # print('sum_duration(sub) ', sum_duration(sub))\n",
        "  len_sub_h = len_sub/60\n",
        "\n",
        "  bigger, smaller = (len_sub, len_patt) if len_sub >= len_patt else (len_patt, len_sub)\n",
        "  gap = smaller / bigger * 100\n",
        "  if gap >= (degree*100) :\n",
        "  # temp_sim = fuzzy_exclusion_fth_h(len_sub_h, len_patt_h, support_tronc)\n",
        "  # T = len_sub if len_sub <= len_patt else len_patt\n",
        "\n",
        "  # if temp_sim > 0 :\n",
        "\n",
        "    relative_sub = rounded_relative_temporal_seq(sub ) # precision -1\n",
        "    # print('================= inside FTH_relative_elimin_k_fuzz =========')\n",
        "    # print(\"relative_pattern \", relative_pattern.acts, relative_pattern.times)\n",
        "    # print(\"relative_sub \", relative_sub.acts, relative_sub.times)\n",
        "    # distance = dist_fth_relative(relative_pattern, relative_sub, f, 1/ 10 **precision, 0.01, max ) # with the default parameters\n",
        "    distance = dist_fth(relative_pattern, relative_sub, f,1, 500, max )/1000 # with the default parameters\n",
        "    # support = 200\n",
        "    result.append(( subb, distance))\n",
        "\n",
        "  if result:\n",
        "    sorted_result_fth = sorted(result, key=lambda x: x[1])\n",
        "    k_smallest_pairs = sorted_result_fth[:k]\n",
        "\n",
        "    print(\"TOP K:\")\n",
        "    # for substring, similarity, temp_s in k_smallest_pairs:\n",
        "    for substring, distance in k_smallest_pairs:\n",
        "        # print('inside for')\n",
        "        decoded_sub = decoding_func(substring.acts)\n",
        "        print( \"Distance:\", distance, \" - Sequence:\", decoded_sub, substring.times)\n",
        "\n",
        "\n",
        "  else:\n",
        "    print(\"No valid subsequences found.\")\n",
        "\n"
      ],
      "metadata": {
        "id": "fydSiJ77WxOQ"
      },
      "execution_count": 19,
      "outputs": []
    },
    {
      "cell_type": "code",
      "source": [
        "# FUZZ 2025\n",
        "precision = 2\n",
        "def FTH_relative_k_fuzz(subb, pattern, k, f = cost_delta_fth_relative): # degree is a value introduced by the user that represents the acceptable error? or the acceptable gap between the subsequence and the pattern\n",
        "  result = []\n",
        "  patt = copy.deepcopy(pattern)\n",
        "  #relative_pattern = relative_temporal_seq(patt)\n",
        "  # relative_pattern = rounded_relative_temporal_seq(patt, precision-1)\n",
        "  relative_pattern = rounded_relative_temporal_seq(patt)\n",
        "  # print(\"relative_pattern \" , relative_pattern.acts, relative_pattern.times)\n",
        "\n",
        "  # for subb in substrings:\n",
        "  sub = copy.deepcopy(subb)\n",
        "  relative_sub = rounded_relative_temporal_seq(sub ) #  precision - 1\n",
        "  # distance = dist_fth_relative(relative_pattern, relative_sub, f, 1/ 10 **precision, 0.01, max ) # with the default parameters\n",
        "  # def dist_fth(S1: Temporal_seq, S2: Temporal_seq, f = cost_gamma_fth, interval_step = 5, time_window = 480, agg = max)-> float:\n",
        "  distance = dist_fth(relative_pattern, relative_sub, f, 1, 500 , max )/1000\n",
        "  result.append(( subb, distance))\n",
        "\n",
        "  if result:\n",
        "    # print('if result')\n",
        "    sorted_result_fth = sorted(result, key=lambda x: x[1])\n",
        "    k_smallest_pairs = sorted_result_fth[:k]\n",
        "\n",
        "    print(\"TOP K:\")\n",
        "    # for substring, similarity, temp_s in k_smallest_pairs:\n",
        "    for substring, distance in k_smallest_pairs:\n",
        "        # print('inside for')\n",
        "        decoded_sub = decode_activities(substring.acts)\n",
        "        print( \"Distance:\", distance, \" - Sequence:\", decoded_sub, substring.times)\n",
        "\n",
        "\n",
        "  else:\n",
        "    print(\"No valid subsequences found.\")\n"
      ],
      "metadata": {
        "id": "IaDU-zCiXKWe"
      },
      "execution_count": 20,
      "outputs": []
    },
    {
      "cell_type": "code",
      "source": [
        "# FUZZ 2025  pour tester FTH relatif :\n",
        "\n",
        "# 1 => Bike\n",
        "# 2 => Walk\n",
        "# 3 => Bus\n",
        "# 4 => Work\n",
        "# 5 => Shopping\n",
        "# 6 => Read\n",
        "# 7 => Swim\n",
        "\n",
        "# Define the sequences\n",
        "S = Temporal_seq(\n",
        "    ['2', '4', '2', '5', '2'],  # Activities: Walk, Work, Walk, Shopping, Walk\n",
        "    [60, 240, 60, 120, 60]      # Durations in minutes: 1h, 4h, 1h, 2h, 1h\n",
        ")\n",
        "\n",
        "S1 = Temporal_seq(\n",
        "    ['2', '5', '2', '4', '2'],  # Activities: Walk, Shopping, Walk, Work, Walk\n",
        "    [30, 90, 30, 240, 30]       # Durations in minutes: 30min, 1h30, 30min, 4h, 30min\n",
        ")\n",
        "\n",
        "S2 = Temporal_seq(\n",
        "    ['3', '4', '3'],            # Activities: Bus, Work, Bus\n",
        "    [30, 420, 30]               # Durations in minutes: 30min, 7h, 30min\n",
        ")\n",
        "\n",
        "S22 = Temporal_seq(\n",
        "    ['1', '4', '1'],            # Activities: Bus, Work, Bus\n",
        "    [30, 420, 30]               # Durations in minutes: 30min, 7h, 30min\n",
        ")\n",
        "\n",
        "# S3 = Temporal_seq(\n",
        "#     ['2', '4', '2', '5'],       # Activities: Walk, Work, Walk, Shopping\n",
        "#     [60, 120, 30, 60]           # Durations in minutes: 1h, 2h, 30min, 1h\n",
        "# )\n",
        "# S33 = Temporal_seq(\n",
        "#     ['1', '4', '1'],       # Activities: Bike, Work, Bike\n",
        "#     [60, 240, 30]           # Durations in minutes: 1h, 2h, 30min\n",
        "# )\n",
        "\n",
        "# S333 = Temporal_seq(\n",
        "#     ['1', '4', '1'],       # Activities: Bike, Work, Bike\n",
        "#     [60, 120, 60]           # Durations in minutes: 1h, 2h, 1h\n",
        "# )\n",
        "# S4 = Temporal_seq(\n",
        "#     ['2', '4', '2', '5', '2'] ,  # Activities: Walk, Work, Walk, Shopping, Walk\n",
        "#     [80, 260, 80, 160, 80]      # Durations in minutes: 1h20, 4h, 1h, 2h, 1h\n",
        "# )\n",
        "# S4 = Temporal_seq(\n",
        "#     ['2', '4', '2', '5', '2'] ,  # Activities: Walk, Work, Walk, Shopping, Walk\n",
        "#     [80, 260, 80, 160, 80]      # Durations : 1h, 4h40, 1h20, 2h40, 1h20\n",
        "# )\n",
        "\n",
        "S3 = Temporal_seq(\n",
        "    ['1', '4', '1'] ,  # Activities: Bike, Work, Bike\n",
        "    [30, 300, 30]      # Durations : 30min, 5h, 30min\n",
        ")\n",
        "\n",
        "S4 = Temporal_seq(\n",
        "    ['2', '4', '2', '5', '2'] ,  # Activities: Walk, Work, Walk, Shopping, Walk\n",
        "    [65, 245, 65, 145, 80]      # Durations : 1h05, 4h25, 1h05, 2h25, 1h20\n",
        ")\n",
        "# Example usage\n",
        "print(\"Sequence S:\", S.acts , S.times)\n",
        "print(\"Sequence S1:\", S1.acts , S1.times)\n",
        "print(\"Sequence S2:\", S2.acts , S2.times)\n",
        "print(\"Sequence S3:\", S3.acts , S3.times)\n",
        "print(\"Sequence S4:\", S4.acts , S4.times)\n"
      ],
      "metadata": {
        "colab": {
          "base_uri": "https://localhost:8080/"
        },
        "id": "EzYtWfmbGcZI",
        "outputId": "2788f8e0-9621-4991-8eaf-2a9dd290c426"
      },
      "execution_count": 24,
      "outputs": [
        {
          "output_type": "stream",
          "name": "stdout",
          "text": [
            "Sequence S: ['2', '4', '2', '5', '2'] [60, 240, 60, 120, 60]\n",
            "Sequence S1: ['2', '5', '2', '4', '2'] [30, 90, 30, 240, 30]\n",
            "Sequence S2: ['3', '4', '3'] [30, 420, 30]\n",
            "Sequence S3: ['1', '4', '1'] [30, 300, 30]\n",
            "Sequence S4: ['2', '4', '2', '5', '2'] [65, 245, 65, 145, 80]\n"
          ]
        }
      ]
    },
    {
      "cell_type": "code",
      "source": [
        "# FUZZ 2025\n",
        "seq_example = [S, S1, S2, S3, S4]"
      ],
      "metadata": {
        "id": "kQGDz3D9O2a3"
      },
      "execution_count": 25,
      "outputs": []
    },
    {
      "cell_type": "markdown",
      "metadata": {
        "id": "aZNvTgfLyYoF"
      },
      "source": [
        "#### FTH relative ( avec élimination)"
      ]
    },
    {
      "cell_type": "code",
      "source": [
        "# # FUZZ 2025\n",
        "# seq_example = [S, S1, S2, S3]\n",
        "\n",
        "# # FUZZ 2025\n",
        "# import copy\n",
        "# degree_length = 0.7\n",
        "\n",
        "# print('______________________________FTH_delta relative (avec élimination)__________________________________')\n",
        "\n",
        "# decoded_main = decode_activities(S.acts)\n",
        "# print( \"Pattern :\", decoded_main, S.times)\n",
        "# print('__________________________________________________________________________________')\n",
        "\n",
        "# for rel_seq in seq_example :\n",
        "#   print('rel_seq ', rel_seq.acts, rel_seq.times)\n",
        "#   # relative_subs = contiguous_substrings(rel_seq)\n",
        "# ```python\n",
        "# FUZZ 2025\n",
        "\n",
        "# FUZZ 2025\n",
        "import copy\n",
        "degree_length = 0.7\n",
        "\n",
        "print('______________________________FTH_delta relative (avec élimination)__________________________________')\n",
        "\n",
        "decoded_main = decode_activities(S.acts)\n",
        "print( \"Pattern :\", decoded_main, S.times)\n",
        "print('__________________________________________________________________________________')\n",
        "\n",
        "for rel_seq in seq_example :\n",
        "  print('rel_seq ', rel_seq.acts, rel_seq.times)\n",
        "  # relative_subs = contiguous_substrings(rel_seq)\n",
        "  decoded_seqqq = decode_activities(rel_seq.acts)\n",
        "  print( \"Sequence:\", decoded_seqqq, rel_seq.times)\n",
        "  FTH_relative_elimin_k_fuzz(rel_seq, S , 100,degree_length, f = cost_delta_fth_relative, decoding_func = decode_activities)\n",
        "\n",
        "  print('__________________________________________________________________________________')\n",
        "\n"
      ],
      "metadata": {
        "colab": {
          "base_uri": "https://localhost:8080/"
        },
        "id": "OpdSkmY-PeH5",
        "outputId": "056672ac-a650-4280-986e-c44e47a13cba"
      },
      "execution_count": 26,
      "outputs": [
        {
          "output_type": "stream",
          "name": "stdout",
          "text": [
            "______________________________FTH_delta relative (avec élimination)__________________________________\n",
            "Pattern : ['Walk', 'Work', 'Walk', 'Shopping', 'Walk'] [60, 240, 60, 120, 60]\n",
            "__________________________________________________________________________________\n",
            "rel_seq  ['2', '4', '2', '5', '2'] [60, 240, 60, 120, 60]\n",
            "Sequence: ['Walk', 'Work', 'Walk', 'Shopping', 'Walk'] [60, 240, 60, 120, 60]\n",
            "TOP K:\n",
            "Distance: 0.0  - Sequence: ['Walk', 'Work', 'Walk', 'Shopping', 'Walk'] [60, 240, 60, 120, 60]\n",
            "__________________________________________________________________________________\n",
            "rel_seq  ['2', '5', '2', '4', '2'] [30, 90, 30, 240, 30]\n",
            "Sequence: ['Walk', 'Shopping', 'Walk', 'Work', 'Walk'] [30, 90, 30, 240, 30]\n",
            "TOP K:\n",
            "Distance: 0.4205980000000001  - Sequence: ['Walk', 'Shopping', 'Walk', 'Work', 'Walk'] [30, 90, 30, 240, 30]\n",
            "__________________________________________________________________________________\n",
            "rel_seq  ['3', '4', '3'] [30, 420, 30]\n",
            "Sequence: ['Bus', 'Work', 'Bus'] [30, 420, 30]\n",
            "TOP K:\n",
            "Distance: 0.5133333333333334  - Sequence: ['Bus', 'Work', 'Bus'] [30, 420, 30]\n",
            "__________________________________________________________________________________\n",
            "rel_seq  ['1', '4', '1'] [30, 300, 30]\n",
            "Sequence: ['Bike', 'Work', 'Bike'] [30, 300, 30]\n",
            "No valid subsequences found.\n",
            "__________________________________________________________________________________\n",
            "rel_seq  ['2', '4', '2', '5', '2'] [65, 245, 65, 145, 80]\n",
            "Sequence: ['Walk', 'Work', 'Walk', 'Shopping', 'Walk'] [65, 245, 65, 145, 80]\n",
            "TOP K:\n",
            "Distance: 0.04407200000000001  - Sequence: ['Walk', 'Work', 'Walk', 'Shopping', 'Walk'] [65, 245, 65, 145, 80]\n",
            "__________________________________________________________________________________\n"
          ]
        }
      ]
    },
    {
      "cell_type": "code",
      "source": [
        "# # FUZZ 2025\n",
        "# seq_example = [S, S1, S2, S3]\n",
        "\n",
        "# # FUZZ 2025\n",
        "# import copy\n",
        "# degree_length = 0.7\n",
        "\n",
        "# print('______________________________FTH_delta relative (avec élimination)__________________________________')\n",
        "\n",
        "# decoded_main = decode_activities(S.acts)\n",
        "# print( \"Pattern :\", decoded_main, S.times)\n",
        "# print('__________________________________________________________________________________')\n",
        "\n",
        "# for rel_seq in seq_example :\n",
        "#   print('rel_seq ', rel_seq.acts, rel_seq.times)\n",
        "#   # relative_subs = contiguous_substrings(rel_seq)\n",
        "# ```python\n",
        "# FUZZ 2025\n",
        "\n",
        "# FUZZ 2025\n",
        "import copy\n",
        "degree_length = 0.7\n",
        "\n",
        "print('______________________________FTH_delta relative (avec élimination)__________________________________')\n",
        "\n",
        "decoded_main = decode_activities(S.acts)\n",
        "print( \"Pattern :\", decoded_main, S.times)\n",
        "print('__________________________________________________________________________________')\n",
        "\n",
        "for rel_seq in seq_example :\n",
        "  print('rel_seq ', rel_seq.acts, rel_seq.times)\n",
        "  # relative_subs = contiguous_substrings(rel_seq)\n",
        "  decoded_seqqq = decode_activities(rel_seq.acts)\n",
        "  print( \"Sequence:\", decoded_seqqq, rel_seq.times)\n",
        "  FTH_relative_k_fuzz(rel_seq, S , 100, f = cost_delta_fth_relative)\n",
        "\n",
        "  print('__________________________________________________________________________________')\n",
        "\n"
      ],
      "metadata": {
        "colab": {
          "base_uri": "https://localhost:8080/"
        },
        "id": "z1f1-c2cuyoe",
        "outputId": "8c935c8e-fbfa-48d6-c2ee-314ad427136a"
      },
      "execution_count": 27,
      "outputs": [
        {
          "output_type": "stream",
          "name": "stdout",
          "text": [
            "______________________________FTH_delta relative (avec élimination)__________________________________\n",
            "Pattern : ['Walk', 'Work', 'Walk', 'Shopping', 'Walk'] [60, 240, 60, 120, 60]\n",
            "__________________________________________________________________________________\n",
            "rel_seq  ['2', '4', '2', '5', '2'] [60, 240, 60, 120, 60]\n",
            "Sequence: ['Walk', 'Work', 'Walk', 'Shopping', 'Walk'] [60, 240, 60, 120, 60]\n",
            "TOP K:\n",
            "Distance: 0.0  - Sequence: ['Walk', 'Work', 'Walk', 'Shopping', 'Walk'] [60, 240, 60, 120, 60]\n",
            "__________________________________________________________________________________\n",
            "rel_seq  ['2', '5', '2', '4', '2'] [30, 90, 30, 240, 30]\n",
            "Sequence: ['Walk', 'Shopping', 'Walk', 'Work', 'Walk'] [30, 90, 30, 240, 30]\n",
            "TOP K:\n",
            "Distance: 0.4205980000000001  - Sequence: ['Walk', 'Shopping', 'Walk', 'Work', 'Walk'] [30, 90, 30, 240, 30]\n",
            "__________________________________________________________________________________\n",
            "rel_seq  ['3', '4', '3'] [30, 420, 30]\n",
            "Sequence: ['Bus', 'Work', 'Bus'] [30, 420, 30]\n",
            "TOP K:\n",
            "Distance: 0.5133333333333334  - Sequence: ['Bus', 'Work', 'Bus'] [30, 420, 30]\n",
            "__________________________________________________________________________________\n",
            "rel_seq  ['1', '4', '1'] [30, 300, 30]\n",
            "Sequence: ['Bike', 'Work', 'Bike'] [30, 300, 30]\n",
            "TOP K:\n",
            "Distance: 0.44433333333333336  - Sequence: ['Bike', 'Work', 'Bike'] [30, 300, 30]\n",
            "__________________________________________________________________________________\n",
            "rel_seq  ['2', '4', '2', '5', '2'] [65, 245, 65, 145, 80]\n",
            "Sequence: ['Walk', 'Work', 'Walk', 'Shopping', 'Walk'] [65, 245, 65, 145, 80]\n",
            "TOP K:\n",
            "Distance: 0.04407200000000001  - Sequence: ['Walk', 'Work', 'Walk', 'Shopping', 'Walk'] [65, 245, 65, 145, 80]\n",
            "__________________________________________________________________________________\n"
          ]
        }
      ]
    },
    {
      "cell_type": "code",
      "source": [
        "# FUZZ 2025\n",
        "def similarity_fth(fth_distance, threshold):\n",
        "    \"\"\"\n",
        "    Computes the similarity score based on FTH distance and threshold.\n",
        "\n",
        "    Parameters:\n",
        "        fth_distance (float): The FTH distance between two sequences.\n",
        "        threshold (float): The threshold value for similarity.\n",
        "\n",
        "    Returns:\n",
        "        float: The similarity score.\n",
        "    \"\"\"\n",
        "    if fth_distance <= threshold:\n",
        "        return 1 / (1 + fth_distance)\n",
        "    else:\n",
        "        return 0\n",
        "\n",
        "# Example\n",
        "fth_dist1 = 705.66\n",
        "fth_dist2 = 513.33\n",
        "\n",
        "# Threshold for similarity\n",
        "T = 1440\n",
        "\n",
        "similarity1 = similarity_fth(fth_dist1, T)\n",
        "print(f\"Similarity1: {similarity1}\")\n",
        "print('__________________________________________________________________________________')\n",
        "similarity2 = similarity_fth(fth_dist2, T)\n",
        "print(f\"Similarity2: {similarity2}\")\n"
      ],
      "metadata": {
        "colab": {
          "base_uri": "https://localhost:8080/"
        },
        "id": "lZy8Fm82vi3V",
        "outputId": "7f41c3a7-bca2-4f0f-a084-483a26df9542"
      },
      "execution_count": null,
      "outputs": [
        {
          "output_type": "stream",
          "name": "stdout",
          "text": [
            "Similarity1: 0.0014151076896951858\n",
            "__________________________________________________________________________________\n",
            "Similarity2: 0.0019442770205898934\n"
          ]
        }
      ]
    },
    {
      "cell_type": "code",
      "source": [
        "# FUZZ 2025\n",
        "\n",
        "def linear_decay(d, T):\n",
        "    \"\"\"\n",
        "    Linear decay function that transforms a distance into a similarity score.\n",
        "\n",
        "    Parameters:\n",
        "    d (float or numpy array): The distance value(s).\n",
        "    T (float): The threshold value. Similarity is 0 for distances greater than T.\n",
        "\n",
        "    Returns:\n",
        "    float or numpy array: Similarity value(s) between 0 and 1.\n",
        "    \"\"\"\n",
        "    return np.maximum(1 - d / T, 0)\n",
        "\n",
        "# Example usage:\n",
        "import numpy as np\n",
        "import matplotlib.pyplot as plt\n",
        "\n",
        "# Parameters\n",
        "Threashold = 1440\n",
        "fth_dist1 = 705.66\n",
        "fth_dist2 = 513.33\n",
        "# Compute similarity\n",
        "similarity1 = linear_decay(fth_dist1, Threashold)\n",
        "similarity2 = linear_decay(fth_dist2, Threashold)\n",
        "\n",
        "print(f\"Similarity1: {similarity1}\")\n",
        "print(f\"Similarity2: {similarity2}\")"
      ],
      "metadata": {
        "colab": {
          "base_uri": "https://localhost:8080/"
        },
        "id": "UHC6Onc4_JLQ",
        "outputId": "c4932e57-2c58-4b79-c945-caea8b7dd5e1"
      },
      "execution_count": null,
      "outputs": [
        {
          "output_type": "stream",
          "name": "stdout",
          "text": [
            "Similarity1: 0.5099583333333333\n",
            "Similarity2: 0.6435208333333333\n"
          ]
        }
      ]
    },
    {
      "cell_type": "code",
      "source": [
        "# FUZZ 2025\n",
        "def membership_function(x, b, w):\n",
        "    \"\"\"\n",
        "    Computes the membership value μ(x) based on parameters b and w.\n",
        "\n",
        "    Parameters:\n",
        "        x (float): The input value.\n",
        "        b (float): The center of the range.\n",
        "        w (float): The width of the range.\n",
        "\n",
        "    Returns:\n",
        "        float: The membership value μ(x).\n",
        "    \"\"\"\n",
        "    if x <= b - w or x >= b + w:\n",
        "        return 0\n",
        "    elif b - w < x <= b:\n",
        "        return (x - (b - w)) / w\n",
        "    elif b < x < b + w:\n",
        "        return ((b + w) - x) / w\n",
        "\n",
        "# Example usage:\n",
        "x1 = 7  # Input value\n",
        "x2 = 8  # Input value\n",
        "x3 = 5  # Input value\n",
        "x4 = 10\n",
        "# x33 = 4.5  # Input value\n",
        "# x333 = 4  # Input value\n",
        "# x4 = 11  # Input value\n",
        "# x44 = 10  # Input value\n",
        "\n",
        "b = 9.0  # Center of the range\n",
        "w = 4.0  # Width of the range\n",
        "\n",
        "mu1 = membership_function(x1, b, w)\n",
        "mu2 = membership_function(x2, b, w)\n",
        "mu3 = membership_function(x3, b, w)\n",
        "# mu33 = membership_function(x33, b, w)\n",
        "# mu333 = membership_function(x333, b, w)\n",
        "mu4 = membership_function(x4, b, w)\n",
        "# mu44 = membership_function(x44, b, w)\n",
        "print(f\"Membership value 1: {mu1}\")\n",
        "print(f\"Membership value 2: {mu2}\")\n",
        "print(f\"Membership value 3: {mu3}\")\n",
        "# print(f\"Membership value 33: {mu33}\")\n",
        "# print(f\"Membership value 333: {mu333}\")\n",
        "print(f\"Membership value 4: {mu4}\")\n",
        "# print(f\"Membership value 44: {mu44}\")"
      ],
      "metadata": {
        "colab": {
          "base_uri": "https://localhost:8080/"
        },
        "id": "mvx0_pqSoR-u",
        "outputId": "2809e973-fc9d-4dc5-daee-54012924f6ac"
      },
      "execution_count": 30,
      "outputs": [
        {
          "output_type": "stream",
          "name": "stdout",
          "text": [
            "Membership value 1: 0.5\n",
            "Membership value 2: 0.75\n",
            "Membership value 3: 0\n",
            "Membership value 4: 0.75\n"
          ]
        }
      ]
    }
  ],
  "metadata": {
    "colab": {
      "provenance": [],
      "authorship_tag": "ABX9TyPvIvSiyj0n/5RyR0qntNXo",
      "include_colab_link": true
    },
    "kernelspec": {
      "display_name": "Python 3",
      "name": "python3"
    },
    "language_info": {
      "name": "python"
    }
  },
  "nbformat": 4,
  "nbformat_minor": 0
}