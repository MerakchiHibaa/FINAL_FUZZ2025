{
  "cells": [
    {
      "cell_type": "markdown",
      "metadata": {
        "id": "view-in-github",
        "colab_type": "text"
      },
      "source": [
        "<a href=\"https://colab.research.google.com/github/MerakchiHibaa/FINAL_FUZZ2025/blob/main/Final_FUZZ_2025.ipynb\" target=\"_parent\"><img src=\"https://colab.research.google.com/assets/colab-badge.svg\" alt=\"Open In Colab\"/></a>"
      ]
    },
    {
      "cell_type": "markdown",
      "metadata": {
        "id": "3_isigUFldlE"
      },
      "source": [
        "# FTH requirements :"
      ]
    },
    {
      "cell_type": "markdown",
      "metadata": {
        "id": "cvQkGIkWFaFF"
      },
      "source": []
    },
    {
      "cell_type": "code",
      "execution_count": 2,
      "metadata": {
        "colab": {
          "base_uri": "https://localhost:8080/"
        },
        "id": "bxQfkCVClN47",
        "outputId": "eaf4b1de-12d3-48a1-b9ee-2c815e2a21da"
      },
      "outputs": [
        {
          "output_type": "stream",
          "name": "stdout",
          "text": [
            "Collecting scikit-fuzzy\n",
            "  Downloading scikit_fuzzy-0.5.0-py2.py3-none-any.whl.metadata (2.6 kB)\n",
            "Downloading scikit_fuzzy-0.5.0-py2.py3-none-any.whl (920 kB)\n",
            "\u001b[?25l   \u001b[90m━━━━━━━━━━━━━━━━━━━━━━━━━━━━━━━━━━━━━━━━\u001b[0m \u001b[32m0.0/920.8 kB\u001b[0m \u001b[31m?\u001b[0m eta \u001b[36m-:--:--\u001b[0m\r\u001b[2K   \u001b[91m━━━━\u001b[0m\u001b[90m╺\u001b[0m\u001b[90m━━━━━━━━━━━━━━━━━━━━━━━━━━━━━━━━━━━\u001b[0m \u001b[32m92.2/920.8 kB\u001b[0m \u001b[31m2.5 MB/s\u001b[0m eta \u001b[36m0:00:01\u001b[0m\r\u001b[2K   \u001b[91m━━━━━━━━━━━━━━━━━━━━━━━━━━\u001b[0m\u001b[91m╸\u001b[0m\u001b[90m━━━━━━━━━━━━━\u001b[0m \u001b[32m614.4/920.8 kB\u001b[0m \u001b[31m9.2 MB/s\u001b[0m eta \u001b[36m0:00:01\u001b[0m\r\u001b[2K   \u001b[90m━━━━━━━━━━━━━━━━━━━━━━━━━━━━━━━━━━━━━━━━\u001b[0m \u001b[32m920.8/920.8 kB\u001b[0m \u001b[31m9.7 MB/s\u001b[0m eta \u001b[36m0:00:00\u001b[0m\n",
            "\u001b[?25hInstalling collected packages: scikit-fuzzy\n",
            "Successfully installed scikit-fuzzy-0.5.0\n"
          ]
        }
      ],
      "source": [
        "!pip install scikit-fuzzy\n",
        "\n",
        "import networkx as nx\n",
        "import pandas as pd\n",
        "import multiprocessing as mp\n",
        "import matplotlib.pyplot as plt\n",
        "from numba import prange\n",
        "from typing import List\n",
        "import skfuzzy as fuzz\n",
        "from scipy import signal\n",
        "import numpy as np\n",
        "from functools import lru_cache\n",
        "from scipy.spatial.distance import squareform\n",
        "from scipy.cluster import hierarchy\n",
        "from scipy.cluster.hierarchy import dendrogram, linkage, fcluster\n",
        "import time"
      ]
    },
    {
      "cell_type": "code",
      "source": [
        "# Get the ontology\n",
        "\n",
        "!wget https://gist.githubusercontent.com/MerakchiHibaa/09142b59721546554c5550a5c85703d8/raw/b953af93d867f7d937c4e2a838696801caa584ae/Fuzz_activity.txt -q --show-progress"
      ],
      "metadata": {
        "colab": {
          "base_uri": "https://localhost:8080/"
        },
        "id": "ksWKQWNETbE3",
        "outputId": "efa73502-1290-45bc-8008-1203b0c27a87"
      },
      "execution_count": 4,
      "outputs": [
        {
          "output_type": "stream",
          "name": "stdout",
          "text": [
            "\rFuzz_activity.txt.1   0%[                    ]       0  --.-KB/s               \rFuzz_activity.txt.1 100%[===================>]     115  --.-KB/s    in 0s      \n"
          ]
        }
      ]
    },
    {
      "cell_type": "code",
      "source": [
        "path_onto = \"Fuzz_activity.txt\"\n",
        "\n",
        "ontology_emd = nx.read_adjlist(path_onto, create_using=nx.DiGraph) # creates a directed graph (DiGraph) representation of the ontology data.\n",
        "\n"
      ],
      "metadata": {
        "id": "2nGxXMz23ye0"
      },
      "execution_count": 5,
      "outputs": []
    },
    {
      "cell_type": "code",
      "execution_count": 6,
      "metadata": {
        "id": "T86psqEB8j5Z"
      },
      "outputs": [],
      "source": [
        "# Wu-palmer similarity\n",
        "@lru_cache(maxsize=100000)\n",
        "def wu_palmer_fth(x: str, y: str, path: str, rootnode=\"All\") -> float:\n",
        "    ontologie = nx.read_adjlist(path, create_using=nx.DiGraph)\n",
        "    return (2.0 * nx.shortest_path_length(ontologie, rootnode, nx.lowest_common_ancestor(ontologie, x, y))) / (\n",
        "            nx.shortest_path_length(ontologie, rootnode, x) + nx.shortest_path_length(ontologie, rootnode, y))\n",
        "\n",
        "\n",
        "\n",
        "# Define the used similarity\n",
        "def sim_FTH(x: str, y: str) -> float:\n",
        "    return wu_palmer_fth(x, y, path_onto)\n",
        "\n"
      ]
    },
    {
      "cell_type": "code",
      "execution_count": 7,
      "metadata": {
        "id": "oQa-kiYx8jz6"
      },
      "outputs": [],
      "source": [
        "from typing import List, TypeVar\n",
        "\n",
        "T = TypeVar('T') # defines a type variable and allows the class to work with generic types.\n",
        "# https://dev.to/decorator_factory/typevars-explained-hmo\n",
        "\n",
        "\n",
        "class Temporal_seq:\n",
        "    def __init__(self, acts: List[T], times: List[float]) -> None:\n",
        "        self.acts = acts\n",
        "        self.times = times\n",
        "        # acts: A list of elements of type T. The type variable T allows the list to contain elements of any type.\n",
        "        # times: A list of floating-point numbers representing the corresponding times for each activity."
      ]
    },
    {
      "cell_type": "code",
      "execution_count": 8,
      "metadata": {
        "id": "tpfVkp7Z8jxP"
      },
      "outputs": [],
      "source": [
        "class Edit_FTH:# To define the edit operation\n",
        "    def __init__(self, x: str, delta: float, t_edit: float, S_i: Temporal_seq):\n",
        "        self.x = x # the activity\n",
        "        self.delta = delta # the duration\n",
        "        self.t_edit = t_edit # the starting point\n",
        "        self.S_i = S_i # the sequence\n"
      ]
    },
    {
      "cell_type": "code",
      "source": [
        "def sim_fth_e(e: Edit_FTH, t: float) -> float: #  for t in I (starts with 0)\n",
        "    \"\"\"\n",
        "    :param e:     Edit operation\n",
        "    :param t:     Time t\n",
        "    :return:      Similarity over the sequence at time t\n",
        "    \"\"\"\n",
        "    for i in prange(len(e.S_i.times)):# Iterate through the times in the sequence 'e.S_i'\n",
        "    # every i is an index for a duration (starts with 0)\n",
        "        if np.sum(e.S_i.times[:i]) <= t < np.sum(e.S_i.times[:i + 1]): # # Check if 't' falls within the time interval of the current activity in the sequence\n",
        "            return sim_FTH(e.S_i.acts[i], e.x) # If 't' is within the interval, return the similarity between the current activity and 'e.x'\n",
        "    return 0"
      ],
      "metadata": {
        "id": "ZndaNphWzJgh"
      },
      "execution_count": 25,
      "outputs": []
    },
    {
      "cell_type": "markdown",
      "metadata": {
        "id": "gJZgP7lVnE94"
      },
      "source": [
        "## FTH :"
      ]
    },
    {
      "cell_type": "code",
      "execution_count": 14,
      "metadata": {
        "id": "8rvRzZUi8vGD"
      },
      "outputs": [],
      "source": [
        "def cost_gamma_fth(e: Edit_FTH, interval_step = 1, time_window = 240) -> float:\n",
        "  I = np.arange(0, np.sum(e.S_i.times)  , interval_step) # the duration divided by the interval step\n",
        "  mu = fuzz.trapmf(I, [e.t_edit - time_window, e.t_edit, e.t_edit + e.delta, # the context function\n",
        "                       e.t_edit + e.delta + time_window])\n",
        "  sim_fun = [sim_fth_e(e, t) for t in I] # the similarity measure, t starts with 0\n",
        "  sim_context = [mu[i] * sim_fun[i] for i in range(len(I))] # the similarity multiplied by the context function\n",
        "  tab_gate = np.arange(0, e.delta, interval_step)\n",
        "  gate = fuzz.trapmf(tab_gate, [0, 0, e.delta, e.delta])\n",
        "  convo = signal.convolve(sim_context, gate, mode='same') / (e.delta / interval_step) # calculates the convolution weighted by the duration divided by the interval step\n",
        "  return 1 - np.max(convo) # returns the cost (between 0 and 1)\n",
        "\n",
        "def cost_delta_fth(e: Edit_FTH, interval_step = 1, time_window = 240) -> float:\n",
        "  return e.delta * cost_gamma_fth(e, interval_step, time_window) # returns the weighted cost (cost multiplied by the duration of the new activity )\n",
        "\n",
        "# The function that calculates the one-sided distance between two trajectories\n",
        "def one_sided_dist_fth(S1: Temporal_seq, S2: Temporal_seq, f = cost_delta_fth, interval_step = 1, time_window = 240) -> float:\n",
        "  sum = 0\n",
        "\n",
        "  for i in prange(len(S1.acts)): # starts from 0\n",
        "    e = Edit_FTH(S1.acts[i], S1.times[i], np.sum(S1.times[:i]), S2) # np.sum(S1.times[:i]) calculates the cumulative time spent on actions prior to the current action at index i (to get the beginning of the activity)\n",
        "    sum += f(e, interval_step, time_window) # f is the used cost function (delta or gamma function)\n",
        "  return sum # sum represents the sum of maximal costs necessary for all the edit operations\n"
      ]
    },
    {
      "cell_type": "code",
      "execution_count": 15,
      "metadata": {
        "id": "4pHVBPQh8qW6"
      },
      "outputs": [],
      "source": [
        "# Calculation of the FTH distance\n",
        "def dist_fth(S1: Temporal_seq, S2: Temporal_seq, f = cost_delta_fth, interval_step = 1, time_window = 1, agg = max)-> float:\n",
        "  return agg(one_sided_dist_fth(S1, S2, f, interval_step, time_window), # returns the maximal one-sided cost to get from S1 to S2 or from S2 to S1\n",
        "             one_sided_dist_fth(S2, S1, f, interval_step, time_window))\n"
      ]
    },
    {
      "cell_type": "code",
      "execution_count": 9,
      "metadata": {
        "id": "z3LwNT5tprfS"
      },
      "outputs": [],
      "source": [
        "# Fuction that calculates the t-length of a given sequence\n",
        "def sum_duration(sequence: Temporal_seq) -> float: # gives the sum of durations for a sequence\n",
        "    return sum(sequence.times)"
      ]
    },
    {
      "cell_type": "code",
      "source": [
        "# Fuction that decodes the activities to be used when we show the results\n",
        "def decode_activities(acts: List[str]) -> List[str]:\n",
        "    activity_mapping = {\n",
        "        \"1\": \"Bike\",\n",
        "        \"2\": \"Walk\",\n",
        "        \"3\": \"Bus\",\n",
        "        \"4\": \"Work\",\n",
        "        \"5\": \"Shopping\",\n",
        "        \"6\": \"Read\",\n",
        "        \"7\": \"Swim\",\n",
        "\n",
        "    }\n",
        "    decoded_activities = [activity_mapping[act] for act in acts]\n",
        "    return decoded_activities\n",
        "\n",
        "# Example\n",
        "s_h = Temporal_seq(['1', '4', '5'], [30, 5, 12])\n",
        "decoded_activities = decode_activities(s_h.acts)\n",
        "print(decoded_activities)"
      ],
      "metadata": {
        "colab": {
          "base_uri": "https://localhost:8080/"
        },
        "id": "E6vgV-TPAWbN",
        "outputId": "1e1695c5-419f-4da7-d40e-35124752f5bf"
      },
      "execution_count": 11,
      "outputs": [
        {
          "output_type": "stream",
          "name": "stdout",
          "text": [
            "['Bike', 'Work', 'Shopping']\n"
          ]
        }
      ]
    },
    {
      "cell_type": "markdown",
      "metadata": {
        "id": "KQzZl-vaHpvG"
      },
      "source": [
        "### Relative FTH"
      ]
    },
    {
      "cell_type": "code",
      "execution_count": 27,
      "metadata": {
        "id": "xR5uy3fUHo56"
      },
      "outputs": [],
      "source": [
        "# DEFINE A RELATIVE TEMPORAL SEQUENCE FROM A TEMPORAL SEQUENCE T\n",
        "import copy\n",
        "def relative_temporal_seq(T :Temporal_seq ) -> Temporal_seq:\n",
        "  \"\"\"\n",
        "  T :Temporal_seq\n",
        "  Returns a relative temporal sequence\n",
        "  \"\"\"\n",
        "  T_ = copy.deepcopy(T)\n",
        "  T_max_seq = sum_duration(T_)\n",
        "  relative_times = [time / T_max_seq * 100 for time in T_.times]\n",
        "  return Temporal_seq(T_.acts, relative_times)"
      ]
    },
    {
      "cell_type": "code",
      "execution_count": 29,
      "metadata": {
        "id": "y34sMM8zswM-"
      },
      "outputs": [],
      "source": [
        "# DEFINE A ROUNDED RELATIVE TEMPORAL SEQUENCE FROM A TEMPORAL SEQUENCE T (BY ROUNDING THE RELATIVE DURATIONS)\n",
        "def rounded_relative_temporal_seq(T: Temporal_seq) -> Temporal_seq:\n",
        "    T_ = copy.deepcopy(T)\n",
        "    T_max_seq = sum(T_.times)\n",
        "    relative_times = [time / T_max_seq * 1000 for time in T_.times]\n",
        "    integer_parts = [int(time) for time in relative_times] # Truncate to integer part\n",
        "    remainders = [time - int(time) for time in relative_times] # Calculate remainders\n",
        "    # Rank remainders in decreasing order\n",
        "    ranked_remainders = sorted([(i,integer_parts[i], remainders[i]) for i in range(len(integer_parts))], key=lambda x: x[2], reverse=True)\n",
        "    sum_integers = sum(integer_parts)\n",
        "    index = 0\n",
        "\n",
        "    # While the sum of integers is less than 1000, add one to the integer with the next biggest integer\n",
        "    while sum_integers < 1000:\n",
        "        index %= len(ranked_remainders) # Wrap around if we reach the end of the ranked remainders list\n",
        "        i, integer_part, _ = ranked_remainders[index] # Get the index of the next biggest remainder\n",
        "        integer_parts[i] += 1 # Add one to the integer part\n",
        "        sum_integers += 1 # Increment the sum of remainders\n",
        "        index += 1 # Move to the next remainder\n",
        "\n",
        "    return Temporal_seq(T_.acts, integer_parts)\n",
        "\n"
      ]
    },
    {
      "cell_type": "code",
      "source": [
        "# FUNCTION THAT CALCULATES THE FTH_DELTA DISTANCE BETWEEN TWO RELATIVE SEQUENCES\n",
        "\n",
        "def FTH_relative_fuzz(sequence, pattern, f=cost_delta_fth):\n",
        "    # Compute the relative temporal sequence for the pattern and the sequence\n",
        "    patt = copy.deepcopy(pattern)\n",
        "    relative_pattern = rounded_relative_temporal_seq(patt)\n",
        "\n",
        "    seq = copy.deepcopy(sequence)\n",
        "    relative_sequence = rounded_relative_temporal_seq(seq)\n",
        "\n",
        "    # Calculate the distance\n",
        "    distance = dist_fth(relative_pattern, relative_sequence, f, 1, 500, max) / 1000\n",
        "\n",
        "    # Decode and display the result\n",
        "    decoded_sequence = decode_activities(seq.acts)\n",
        "    print(\"Distance:\", distance, \" - Sequence:\", decoded_sequence, seq.times)\n"
      ],
      "metadata": {
        "id": "427qeuOi2YBP"
      },
      "execution_count": 39,
      "outputs": []
    },
    {
      "cell_type": "markdown",
      "source": [
        "## Tests"
      ],
      "metadata": {
        "id": "TILYqp8Q082S"
      }
    },
    {
      "cell_type": "code",
      "source": [
        "# 1 => Bike\n",
        "# 2 => Walk\n",
        "# 3 => Bus\n",
        "# 4 => Work\n",
        "# 5 => Shopping\n",
        "# 6 => Read\n",
        "# 7 => Swim\n",
        "\n",
        "# Define the sequences\n",
        "S = Temporal_seq(\n",
        "    ['2', '4', '2', '5', '2'],  # Activities: Walk, Work, Walk, Shopping, Walk\n",
        "    [60, 240, 60, 120, 60]      # Durations in minutes: 1h, 4h, 1h, 2h, 1h\n",
        ")\n",
        "\n",
        "S1 = Temporal_seq(\n",
        "    ['2', '5', '2', '4', '2'],  # Activities: Walk, Shopping, Walk, Work, Walk\n",
        "    [30, 90, 30, 240, 30]       # Durations in minutes: 30min, 1h30, 30min, 4h, 30min\n",
        ")\n",
        "\n",
        "S2 = Temporal_seq(\n",
        "    ['3', '4', '3'],            # Activities: Bus, Work, Bus\n",
        "    [30, 420, 30]               # Durations in minutes: 30min, 7h, 30min\n",
        ")\n",
        "\n",
        "S3 = Temporal_seq(\n",
        "    ['1', '4', '1'] ,  # Activities: Bike, Work, Bike\n",
        "    [30, 300, 30]      # Durations : 30min, 5h, 30min\n",
        ")\n",
        "\n",
        "S4 = Temporal_seq(\n",
        "    ['2', '4', '2', '5', '2'] ,  # Activities: Walk, Work, Walk, Shopping, Walk\n",
        "    [65, 245, 65, 145, 80]      # Durations : 1h05, 4h25, 1h05, 2h25, 1h20\n",
        ")\n",
        "# Example usage\n",
        "print(\"Sequence S:\", S.acts , S.times)\n",
        "print(\"Sequence S1:\", S1.acts , S1.times)\n",
        "print(\"Sequence S2:\", S2.acts , S2.times)\n",
        "print(\"Sequence S3:\", S3.acts , S3.times)\n",
        "print(\"Sequence S4:\", S4.acts , S4.times)\n"
      ],
      "metadata": {
        "colab": {
          "base_uri": "https://localhost:8080/"
        },
        "id": "EzYtWfmbGcZI",
        "outputId": "042387eb-2d0c-4fc5-d330-c92b9dd1ca79"
      },
      "execution_count": 32,
      "outputs": [
        {
          "output_type": "stream",
          "name": "stdout",
          "text": [
            "Sequence S: ['2', '4', '2', '5', '2'] [60, 240, 60, 120, 60]\n",
            "Sequence S1: ['2', '5', '2', '4', '2'] [30, 90, 30, 240, 30]\n",
            "Sequence S2: ['3', '4', '3'] [30, 420, 30]\n",
            "Sequence S3: ['1', '4', '1'] [30, 300, 30]\n",
            "Sequence S4: ['2', '4', '2', '5', '2'] [65, 245, 65, 145, 80]\n"
          ]
        }
      ]
    },
    {
      "cell_type": "code",
      "source": [
        "seq_example = [S, S1, S2, S3, S4]"
      ],
      "metadata": {
        "id": "kQGDz3D9O2a3"
      },
      "execution_count": 33,
      "outputs": []
    },
    {
      "cell_type": "markdown",
      "metadata": {
        "id": "aZNvTgfLyYoF"
      },
      "source": [
        "#### FTH relative ( avec élimination)"
      ]
    },
    {
      "cell_type": "code",
      "source": [
        "print('______________________________ FTH_delta relative __________________________________')\n",
        "\n",
        "decoded_main = decode_activities(S.acts)\n",
        "print( \"Pattern :\", decoded_main, S.times)\n",
        "print('__________________________________________________________________________________')\n",
        "\n",
        "for rel_seq in seq_example :\n",
        "  decoded_seq = decode_activities(rel_seq.acts)\n",
        "  print( \"Sequence:\", decoded_seq, rel_seq.times)\n",
        "  FTH_relative_fuzz(rel_seq, S , f = cost_delta_fth)\n",
        "\n",
        "  print('__________________________________________________________________________________')\n",
        "\n"
      ],
      "metadata": {
        "colab": {
          "base_uri": "https://localhost:8080/"
        },
        "id": "z1f1-c2cuyoe",
        "outputId": "1933034b-d9dc-41ad-be30-96ee61d961ea"
      },
      "execution_count": 40,
      "outputs": [
        {
          "output_type": "stream",
          "name": "stdout",
          "text": [
            "______________________________ FTH_delta relative __________________________________\n",
            "Pattern : ['Walk', 'Work', 'Walk', 'Shopping', 'Walk'] [60, 240, 60, 120, 60]\n",
            "__________________________________________________________________________________\n",
            "Sequence: ['Walk', 'Work', 'Walk', 'Shopping', 'Walk'] [60, 240, 60, 120, 60]\n",
            "Distance: 0.0  - Sequence: ['Walk', 'Work', 'Walk', 'Shopping', 'Walk'] [60, 240, 60, 120, 60]\n",
            "__________________________________________________________________________________\n",
            "Sequence: ['Walk', 'Shopping', 'Walk', 'Work', 'Walk'] [30, 90, 30, 240, 30]\n",
            "Distance: 0.4205980000000001  - Sequence: ['Walk', 'Shopping', 'Walk', 'Work', 'Walk'] [30, 90, 30, 240, 30]\n",
            "__________________________________________________________________________________\n",
            "Sequence: ['Bus', 'Work', 'Bus'] [30, 420, 30]\n",
            "Distance: 0.5133333333333334  - Sequence: ['Bus', 'Work', 'Bus'] [30, 420, 30]\n",
            "__________________________________________________________________________________\n",
            "Sequence: ['Bike', 'Work', 'Bike'] [30, 300, 30]\n",
            "Distance: 0.44433333333333336  - Sequence: ['Bike', 'Work', 'Bike'] [30, 300, 30]\n",
            "__________________________________________________________________________________\n",
            "Sequence: ['Walk', 'Work', 'Walk', 'Shopping', 'Walk'] [65, 245, 65, 145, 80]\n",
            "Distance: 0.04407200000000001  - Sequence: ['Walk', 'Work', 'Walk', 'Shopping', 'Walk'] [65, 245, 65, 145, 80]\n",
            "__________________________________________________________________________________\n"
          ]
        }
      ]
    },
    {
      "cell_type": "code",
      "source": [
        "# From FTH_Delta to Sim_Delta\n",
        "def similarity_fth(fth_distance):\n",
        "    \"\"\"\n",
        "    Computes the similarity score based on FTH distance\n",
        "\n",
        "    Parameters:\n",
        "        fth_distance (float): The FTH distance between two sequences.\n",
        "    Returns:\n",
        "        float: The similarity score.\n",
        "    \"\"\"\n",
        "\n",
        "    return 1 - fth_distance\n",
        "\n",
        "# Example\n",
        "fth_dist = 0.4\n",
        "\n",
        "\n",
        "similarity = similarity_fth(fth_dist)\n",
        "print(f\"FTH Similarity: {similarity}\")\n"
      ],
      "metadata": {
        "colab": {
          "base_uri": "https://localhost:8080/"
        },
        "id": "lZy8Fm82vi3V",
        "outputId": "bcb38c2b-30ef-4c8f-eaa8-6111e3411a29"
      },
      "execution_count": 41,
      "outputs": [
        {
          "output_type": "stream",
          "name": "stdout",
          "text": [
            "FTH Similarity: 0.6\n"
          ]
        }
      ]
    },
    {
      "cell_type": "code",
      "source": [
        "# Calculate the t-length comparability index\n",
        "\n",
        "def membership_function(x, b, w):\n",
        "    \"\"\"\n",
        "    Computes the membership value μ(x) based on parameters b and w.\n",
        "\n",
        "    Parameters:\n",
        "        x (float): The input value.\n",
        "        b (float): The center of the range.\n",
        "        w (float): The width of the range.\n",
        "\n",
        "    Returns:\n",
        "        float: The membership value μ(x).\n",
        "    \"\"\"\n",
        "    if x <= b - w or x >= b + w:\n",
        "        return 0\n",
        "    elif b - w < x <= b:\n",
        "        return (x - (b - w)) / w\n",
        "    elif b < x < b + w:\n",
        "        return ((b + w) - x) / w\n",
        "\n",
        "# Example usage:\n",
        "x1 = 7  # Input value\n",
        "x2 = 8  # Input value\n",
        "x3 = 5  # Input value\n",
        "x4 = 10\n",
        "\n",
        "b = 9.0  # Center of the range\n",
        "w = 4.0  # Width of the range\n",
        "\n",
        "mu1 = membership_function(x1, b, w)\n",
        "mu2 = membership_function(x2, b, w)\n",
        "mu3 = membership_function(x3, b, w)\n",
        "mu4 = membership_function(x4, b, w)\n",
        "print(f\"Membership value 1: {mu1}\")\n",
        "print(f\"Membership value 2: {mu2}\")\n",
        "print(f\"Membership value 3: {mu3}\")\n",
        "print(f\"Membership value 4: {mu4}\")\n"
      ],
      "metadata": {
        "colab": {
          "base_uri": "https://localhost:8080/"
        },
        "id": "mvx0_pqSoR-u",
        "outputId": "e7f901a9-21c3-4968-f93e-69757f179012"
      },
      "execution_count": 42,
      "outputs": [
        {
          "output_type": "stream",
          "name": "stdout",
          "text": [
            "Membership value 1: 0.5\n",
            "Membership value 2: 0.75\n",
            "Membership value 3: 0\n",
            "Membership value 4: 0.75\n"
          ]
        }
      ]
    }
  ],
  "metadata": {
    "colab": {
      "provenance": [],
      "authorship_tag": "ABX9TyOGKuPRazH9jxV6J9V9UmDS",
      "include_colab_link": true
    },
    "kernelspec": {
      "display_name": "Python 3",
      "name": "python3"
    },
    "language_info": {
      "name": "python"
    }
  },
  "nbformat": 4,
  "nbformat_minor": 0
}